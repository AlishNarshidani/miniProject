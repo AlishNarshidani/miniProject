{
 "cells": [
  {
   "cell_type": "code",
   "execution_count": 1,
   "id": "cb3b9e45",
   "metadata": {},
   "outputs": [],
   "source": [
    "import yfinance as yf\n",
    "from datetime import datetime\n",
    "import requests"
   ]
  },
  {
   "cell_type": "code",
   "execution_count": 3,
   "id": "aa78f5bb",
   "metadata": {},
   "outputs": [],
   "source": [
    "global_stock = None\n",
    "\n",
    "def fetch_stock_data(stock_name):\n",
    "    try:\n",
    "        global global_stock\n",
    "        stock = stock_name\n",
    "        \n",
    "        info = yf.Ticker(stock).info\n",
    "        \n",
    "        try:\n",
    "            unix_time = info['firstTradeDateEpochUtc']\n",
    "        except KeyError:\n",
    "            print(\"the name is incorrect\")\n",
    "            exit()\n",
    "            \n",
    "        # Convert Unix time to datetime\n",
    "        dt = datetime.fromtimestamp(unix_time)\n",
    "\n",
    "        # Format datetime to date\n",
    "        date = dt.strftime('%Y-%m-%d')\n",
    "        \n",
    "        # Get today's date\n",
    "        end_date = datetime.today().strftime('%Y-%m-%d')\n",
    "\n",
    "        # Download stock data from the first trade date to today\n",
    "        try:\n",
    "            data = yf.download(stock, start=date, end=end_date)\n",
    "        except ValueError:\n",
    "            print(\"Failed to fetch data. Please try again later.\")\n",
    "            exit()\n",
    "            \n",
    "        \n",
    "        if data.empty:\n",
    "            print(\"no data available for stock\")\n",
    "            exit()\n",
    "        \n",
    "        global_stock = stock\n",
    "        \n",
    "    except requests.exceptions.ConnectionError:\n",
    "        print(\"No Internet Connection\")\n",
    "    \n",
    "    return data"
   ]
  }
 ],
 "metadata": {
  "kernelspec": {
   "display_name": "Python 3 (ipykernel)",
   "language": "python",
   "name": "python3"
  },
  "language_info": {
   "codemirror_mode": {
    "name": "ipython",
    "version": 3
   },
   "file_extension": ".py",
   "mimetype": "text/x-python",
   "name": "python",
   "nbconvert_exporter": "python",
   "pygments_lexer": "ipython3",
   "version": "3.11.5"
  }
 },
 "nbformat": 4,
 "nbformat_minor": 5
}
